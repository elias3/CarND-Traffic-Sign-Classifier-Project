{
 "cells": [
  {
   "cell_type": "markdown",
   "metadata": {},
   "source": [
    "### Self-Driving Car Engineer Nanodegree\n",
    "\n",
    "## Deep Learning\n",
    "\n",
    "## Project: Build a Traffic Sign Recognition Classifier\n",
    "\n",
    "In this notebook, a template is provided for you to implement your functionality in stages, which is required to successfully complete this project. If additional code is required that cannot be included in the notebook, be sure that the Python code is successfully imported and included in your submission if necessary. \n",
    "\n",
    "> **Note**: Once you have completed all of the code implementations, you need to finalize your work by exporting the iPython Notebook as an HTML document. Before exporting the notebook to html, all of the code cells need to have been run so that reviewers can see the final implementation and output. You can then export the notebook by using the menu above and navigating to  \\n\",\n",
    "    \"**File -> Download as -> HTML (.html)**. Include the finished document along with this notebook as your submission. \n",
    "\n",
    "In addition to implementing code, there is a writeup to complete. The writeup should be completed in a separate file, which can be either a markdown file or a pdf document. There is a [write up template](https://github.com/udacity/CarND-Traffic-Sign-Classifier-Project/blob/master/writeup_template.md) that can be used to guide the writing process. Completing the code template and writeup template will cover all of the [rubric points](https://review.udacity.com/#!/rubrics/481/view) for this project.\n",
    "\n",
    "The [rubric](https://review.udacity.com/#!/rubrics/481/view) contains \"Stand Out Suggestions\" for enhancing the project beyond the minimum requirements. The stand out suggestions are optional. If you decide to pursue the \"stand out suggestions\", you can include the code in this Ipython notebook and also discuss the results in the writeup file.\n",
    "\n",
    "\n",
    ">**Note:** Code and Markdown cells can be executed using the **Shift + Enter** keyboard shortcut. In addition, Markdown cells can be edited by typically double-clicking the cell to enter edit mode."
   ]
  },
  {
   "cell_type": "markdown",
   "metadata": {},
   "source": [
    "---\n",
    "## Step 0: Load The Data"
   ]
  },
  {
   "cell_type": "code",
   "execution_count": 1,
   "metadata": {},
   "outputs": [],
   "source": [
    "# Load pickled data\n",
    "import pickle\n",
    "import numpy as np\n",
    "\n",
    "# Fill this in based on where you saved the training and testing data\n",
    "training_file = \"../data/train.p\"\n",
    "validation_file= \"../data/test.p\"\n",
    "testing_file = \"../data/valid.p\"\n",
    "\n",
    "with open(training_file, mode='rb') as f:\n",
    "    train = pickle.load(f)\n",
    "with open(validation_file, mode='rb') as f:\n",
    "    valid = pickle.load(f)\n",
    "with open(testing_file, mode='rb') as f:\n",
    "    test = pickle.load(f)\n",
    "    \n",
    "X_train, y_train = train['features'], train['labels']\n",
    "X_valid, y_valid = valid['features'], valid['labels']\n",
    "X_test, y_test = test['features'], test['labels']\n",
    "\n",
    "assert(len(X_train) == len(y_train))\n",
    "assert(len(X_valid) == len(y_valid))\n",
    "assert(len(X_test) == len(y_test))\n"
   ]
  },
  {
   "cell_type": "markdown",
   "metadata": {},
   "source": [
    "---\n",
    "\n",
    "## Step 1: Dataset Summary & Exploration\n",
    "\n",
    "The pickled data is a dictionary with 4 key/value pairs:\n",
    "\n",
    "- `'features'` is a 4D array containing raw pixel data of the traffic sign images, (num examples, width, height, channels).\n",
    "- `'labels'` is a 1D array containing the label/class id of the traffic sign. The file `signnames.csv` contains id -> name mappings for each id.\n",
    "- `'sizes'` is a list containing tuples, (width, height) representing the original width and height the image.\n",
    "- `'coords'` is a list containing tuples, (x1, y1, x2, y2) representing coordinates of a bounding box around the sign in the image. **THESE COORDINATES ASSUME THE ORIGINAL IMAGE. THE PICKLED DATA CONTAINS RESIZED VERSIONS (32 by 32) OF THESE IMAGES**\n",
    "\n",
    "Complete the basic data summary below. Use python, numpy and/or pandas methods to calculate the data summary rather than hard coding the results. For example, the [pandas shape method](http://pandas.pydata.org/pandas-docs/stable/generated/pandas.DataFrame.shape.html) might be useful for calculating some of the summary results. "
   ]
  },
  {
   "cell_type": "markdown",
   "metadata": {},
   "source": [
    "### Provide a Basic Summary of the Data Set Using Python, Numpy and/or Pandas"
   ]
  },
  {
   "cell_type": "code",
   "execution_count": 2,
   "metadata": {},
   "outputs": [
    {
     "name": "stdout",
     "output_type": "stream",
     "text": [
      "Number of training examples = 34799\n",
      "Number of testing examples = 4410\n",
      "Number of validation examples = 12630\n",
      "Image data shape = (32, 32, 3)\n",
      "Number of classes = 43\n"
     ]
    }
   ],
   "source": [
    "### Replace each question mark with the appropriate value. \n",
    "### Use python, pandas or numpy methods rather than hard coding the results\n",
    "\n",
    "# Number of training examples\n",
    "n_train = len(X_train)\n",
    "\n",
    "# Number of validation examples\n",
    "n_validation = len(X_valid)\n",
    "\n",
    "# Number of testing examples.\n",
    "n_test = len(X_test)\n",
    "\n",
    "# What's the shape of an traffic sign image?\n",
    "image_shape = X_train[0].shape\n",
    "\n",
    "# How many unique classes/labels there are in the dataset.\n",
    "n_classes = len(np.unique(y_train))\n",
    "\n",
    "print(\"Number of training examples =\", n_train)\n",
    "print(\"Number of testing examples =\", n_test)\n",
    "print(\"Number of validation examples =\", n_validation)\n",
    "\n",
    "\n",
    "print(\"Image data shape =\", image_shape)\n",
    "print(\"Number of classes =\", n_classes)"
   ]
  },
  {
   "cell_type": "markdown",
   "metadata": {},
   "source": [
    "### Include an exploratory visualization of the dataset"
   ]
  },
  {
   "cell_type": "markdown",
   "metadata": {},
   "source": [
    "Visualize the German Traffic Signs Dataset using the pickled file(s). This is open ended, suggestions include: plotting traffic sign images, plotting the count of each sign, etc. \n",
    "\n",
    "The [Matplotlib](http://matplotlib.org/) [examples](http://matplotlib.org/examples/index.html) and [gallery](http://matplotlib.org/gallery.html) pages are a great resource for doing visualizations in Python.\n",
    "\n",
    "**NOTE:** It's recommended you start with something simple first. If you wish to do more, come back to it after you've completed the rest of the sections. It can be interesting to look at the distribution of classes in the training, validation and test set. Is the distribution the same? Are there more examples of some classes than others?"
   ]
  },
  {
   "cell_type": "code",
   "execution_count": 3,
   "metadata": {},
   "outputs": [
    {
     "name": "stdout",
     "output_type": "stream",
     "text": [
      "Distribution of training examples = Counter({2: 2010, 1: 1980, 13: 1920, 12: 1890, 38: 1860, 10: 1800, 4: 1770, 5: 1650, 25: 1350, 9: 1320, 7: 1290, 3: 1260, 8: 1260, 11: 1170, 18: 1080, 35: 1080, 17: 990, 14: 690, 31: 690, 33: 599, 15: 540, 26: 540, 28: 480, 23: 450, 30: 390, 6: 360, 16: 360, 34: 360, 22: 330, 36: 330, 20: 300, 40: 300, 21: 270, 39: 270, 24: 240, 29: 240, 27: 210, 32: 210, 41: 210, 42: 210, 0: 180, 19: 180, 37: 180})\n",
      "Distribution of testing examples = Counter({1: 240, 2: 240, 13: 240, 4: 210, 5: 210, 10: 210, 12: 210, 38: 210, 3: 150, 7: 150, 8: 150, 9: 150, 11: 150, 25: 150, 17: 120, 18: 120, 35: 120, 14: 90, 15: 90, 31: 90, 33: 90, 6: 60, 16: 60, 20: 60, 21: 60, 22: 60, 23: 60, 26: 60, 28: 60, 30: 60, 34: 60, 36: 60, 40: 60, 0: 30, 19: 30, 24: 30, 27: 30, 29: 30, 32: 30, 37: 30, 39: 30, 41: 30, 42: 30})\n"
     ]
    },
    {
     "data": {
      "image/png": "[encoded data removed]",
      "text/plain": [
       "<Figure size 432x288 with 1 Axes>"
      ]
     },
     "metadata": {},
     "output_type": "display_data"
    },
    {
     "name": "stdout",
     "output_type": "stream",
     "text": [
      "Most common count:\n",
      "2010\n"
     ]
    },
    {
     "data": {
      "image/png": "[encoded data removed]",
      "text/plain": [
       "<Figure size 432x288 with 1 Axes>"
      ]
     },
     "metadata": {},
     "output_type": "display_data"
    },
    {
     "data": {
      "image/png": "[encoded data removed]",
      "text/plain": [
       "<Figure size 432x288 with 1 Axes>"
      ]
     },
     "metadata": {},
     "output_type": "display_data"
    }
   ],
   "source": [
    "### Data exploration visualization code goes here.\n",
    "### Feel free to use as many code cells as needed.\n",
    "import matplotlib.pyplot as plt\n",
    "import random\n",
    "import numpy as np\n",
    "import collections\n",
    "# Visualizations will be shown in the notebook.\n",
    "%matplotlib inline\n",
    "\n",
    "index = random.randint(0, len(X_train))\n",
    "image = X_train[index].squeeze()\n",
    "\n",
    "#plt.figure(figsize=(1,1))\n",
    "#plt.imshow(image)\n",
    "#print(y_train[index])\n",
    "\n",
    "dist_train = collections.Counter(y_train)\n",
    "print(\"Distribution of training examples =\", dist_train)\n",
    "print(\"Distribution of testing examples =\", collections.Counter(y_test))\n",
    "\n",
    "n, bins, patches = plt.hist(y_train, n_classes)\n",
    "plt.xlabel('Class')\n",
    "plt.ylabel('Number of samples')\n",
    "plt.title('Distribution of Training samples')\n",
    "plt.show()\n",
    "plt.close()\n",
    "print(\"Most common count:\")\n",
    "most_common_count = dist_train.most_common(1)[0][1]\n",
    "print(most_common_count)\n",
    "#Todo plot a graph with each sign image in testing and training\n",
    "\n",
    "\n",
    "n, bins, patches = plt.hist(y_valid, n_classes)\n",
    "plt.xlabel('Class')\n",
    "plt.ylabel('Number of samples')\n",
    "plt.title('Distribution of Validation samples')\n",
    "plt.show()\n",
    "plt.close()\n",
    "\n",
    "n, bins, patches = plt.hist(y_test, n_classes)\n",
    "plt.xlabel('Class')\n",
    "plt.ylabel('Number of samples')\n",
    "plt.title('Distribution of Testing samples')\n",
    "plt.show()\n",
    "plt.close()\n",
    "\n"
   ]
  },
  {
   "cell_type": "markdown",
   "metadata": {},
   "source": [
    "----\n",
    "\n",
    "## Step 2: Design and Test a Model Architecture\n",
    "\n",
    "Design and implement a deep learning model that learns to recognize traffic signs. Train and test your model on the [German Traffic Sign Dataset](http://benchmark.ini.rub.de/?section=gtsrb&subsection=dataset).\n",
    "\n",
    "The LeNet-5 implementation shown in the [classroom](https://classroom.udacity.com/nanodegrees/nd013/parts/fbf77062-5703-404e-b60c-95b78b2f3f9e/modules/6df7ae49-c61c-4bb2-a23e-6527e69209ec/lessons/601ae704-1035-4287-8b11-e2c2716217ad/concepts/d4aca031-508f-4e0b-b493-e7b706120f81) at the end of the CNN lesson is a solid starting point. You'll have to change the number of classes and possibly the preprocessing, but aside from that it's plug and play! \n",
    "\n",
    "With the LeNet-5 solution from the lecture, you should expect a validation set accuracy of about 0.89. To meet specifications, the validation set accuracy will need to be at least 0.93. It is possible to get an even higher accuracy, but 0.93 is the minimum for a successful project submission. \n",
    "\n",
    "There are various aspects to consider when thinking about this problem:\n",
    "\n",
    "- Neural network architecture (is the network over or underfitting?)\n",
    "- Play around preprocessing techniques (normalization, rgb to grayscale, etc)\n",
    "- Number of examples per label (some have more than others).\n",
    "- Generate fake data.\n",
    "\n",
    "Here is an example of a [published baseline model on this problem](http://yann.lecun.com/exdb/publis/pdf/sermanet-ijcnn-11.pdf). It's not required to be familiar with the approach used in the paper but, it's good practice to try to read papers like these."
   ]
  },
  {
   "cell_type": "markdown",
   "metadata": {},
   "source": [
    "### Pre-process the Data Set (normalization, grayscale, etc.)"
   ]
  },
  {
   "cell_type": "markdown",
   "metadata": {},
   "source": [
    "Minimally, the image data should be normalized so that the data has mean zero and equal variance. For image data, `(pixel - 128)/ 128` is a quick way to approximately normalize the data and can be used in this project. \n",
    "\n",
    "Other pre-processing steps are optional. You can try different techniques to see if it improves performance. \n",
    "\n",
    "Use the code cell (or multiple code cells, if necessary) to implement the first step of your project."
   ]
  },
  {
   "cell_type": "code",
   "execution_count": 4,
   "metadata": {
    "scrolled": true
   },
   "outputs": [
    {
     "name": "stdout",
     "output_type": "stream",
     "text": [
      "13\n"
     ]
    },
    {
     "data": {
      "image/png": "[encoded data removed]",
      "text/plain": [
       "<Figure size 72x72 with 1 Axes>"
      ]
     },
     "metadata": {},
     "output_type": "display_data"
    },
    {
     "data": {
      "image/png": "[encoded data removed]",
      "text/plain": [
       "<Figure size 360x360 with 2 Axes>"
      ]
     },
     "metadata": {},
     "output_type": "display_data"
    },
    {
     "data": {
      "image/png": "[encoded data removed]",
      "text/plain": [
       "<Figure size 360x360 with 2 Axes>"
      ]
     },
     "metadata": {},
     "output_type": "display_data"
    },
    {
     "name": "stdout",
     "output_type": "stream",
     "text": [
      "13\n"
     ]
    }
   ],
   "source": [
    "### Sample images\n",
    "import cv2\n",
    "import matplotlib.pyplot as plt\n",
    "import random\n",
    "import numpy as np\n",
    "# Visualizations will be shown in the notebook.\n",
    "%matplotlib inline\n",
    "\n",
    "\n",
    "size = 3\n",
    "\n",
    "# generating the kernel\n",
    "kernel_motion_blur = np.zeros((size, size))\n",
    "kernel_motion_blur[int((size-1)/2), :] = np.ones(size)\n",
    "kernel_motion_blur = kernel_motion_blur / size\n",
    "\n",
    "# applying the kernel to the input image\n",
    "\n",
    "def generateSample(img):\n",
    "    pixel_range = (-2,3)\n",
    "    scale_range = (0.9,1.1)\n",
    "    rotation_range = (-15,16) # in degrees\n",
    "    petrurbed = np.random.randint(pixel_range[0],pixel_range[1])\n",
    "    rotation = np.random.randint(rotation_range[0],rotation_range[1])\n",
    "    scale = (scale_range[1] - scale_range[0]) * np.random.random_sample() + scale_range[0]\n",
    "    \n",
    "    rows,cols, c = img.shape\n",
    "    \n",
    "    # blur image at probability of 0.1\n",
    "    blur_prob = 0.2\n",
    "    \n",
    "    if blur_prob >= np.random.random_sample():\n",
    "        img = cv2.filter2D(img, -1, kernel_motion_blur)\n",
    "        #img = cv2.medianBlur(img,5)\n",
    "        #img = cv2.GaussianBlur(img,(5,5),0)\n",
    "\n",
    "    M = cv2.getRotationMatrix2D((cols/2 + petrurbed,rows/2 + petrurbed),rotation, scale)\n",
    "    dst = cv2.warpAffine(img,M,(cols,rows))\n",
    "    \n",
    "    return dst.reshape(dst.shape[0],dst.shape[1],c)\n",
    "\n",
    "\n",
    "plt.figure(figsize=(1,1))\n",
    "plt.imshow(image)\n",
    "print(y_train[index])\n",
    "\n",
    "\n",
    "\n",
    "fig=plt.figure(figsize=(5, 5))    \n",
    "ax1 = fig.add_subplot(1, 2, 1)\n",
    "ax1.title.set_text('Original')\n",
    "plt.imshow(image)\n",
    "ax2 = fig.add_subplot(1, 2, 2)\n",
    "ax2.title.set_text('Modefied')\n",
    "plt.imshow(generateSample(image))\n",
    "plt.show()\n",
    "\n",
    "\n",
    "def convert_single_channel(img):\n",
    "#     img_y = cv2.cvtColor(img, (cv2.COLOR_BGR2YUV))[:,:,0]\n",
    "#     img_y = (img_y / 255.).astype(np.float32)\n",
    "#    # img_y = (equalize_adapthist(img_y,) - 0.5)\n",
    "#     img_y = img_y.reshape(img_y.shape + (1,))\n",
    "#     return img_y\n",
    "    img_yuv = cv2.cvtColor(img, cv2.COLOR_RGB2YUV)\n",
    "    y, u, v = cv2.split(img_yuv)\n",
    "    return y\n",
    "    \n",
    "fig=plt.figure(figsize=(5, 5))    \n",
    "ax1 = fig.add_subplot(1, 2, 1)\n",
    "ax1.title.set_text('Original')\n",
    "plt.imshow(image)\n",
    "ax2 = fig.add_subplot(1, 2, 2)\n",
    "ax2.title.set_text('Y channel')\n",
    "plt.imshow(convert_single_channel(image))\n",
    "plt.show()\n",
    "plt.close()\n",
    "print(y_train[index])\n",
    "\n",
    "   "
   ]
  },
  {
   "cell_type": "code",
   "execution_count": 5,
   "metadata": {},
   "outputs": [
    {
     "name": "stdout",
     "output_type": "stream",
     "text": [
      "Iteration  0\n",
      "Iteration  10000\n",
      "Iteration  20000\n",
      "Iteration  30000\n",
      "y_gen_train shape:  (224524,)\n",
      "X_gen_train shape:  (224524, 32, 32, 3)\n",
      "X_train shape: (34799, 32, 32, 3)\n",
      "y_train shape: (34799,)\n",
      "Merging...\n",
      "X_train shape: (259323, 32, 32, 3)\n",
      "y_train shape: (259323,)\n",
      "Distribution of testing examples = Counter({42: 6047, 7: 6045, 13: 6044, 31: 6044, 41: 6043, 11: 6042, 5: 6041, 30: 6041, 27: 6040, 25: 6038, 36: 6038, 19: 6037, 24: 6037, 26: 6035, 37: 6035, 39: 6035, 33: 6034, 0: 6033, 15: 6032, 10: 6031, 18: 6031, 2: 6030, 28: 6030, 29: 6030, 32: 6030, 21: 6029, 34: 6029, 14: 6027, 23: 6027, 38: 6027, 40: 6027, 1: 6025, 4: 6025, 6: 6025, 16: 6025, 17: 6025, 22: 6024, 20: 6022, 8: 6017, 12: 6016, 35: 6015, 9: 6012, 3: 6003})\n",
      "(259323, 32, 32, 1)\n"
     ]
    }
   ],
   "source": [
    "### Preprocess the data here. It is required to normalize the data. Other preprocessing steps could include \n",
    "### converting to grayscale, etc.\n",
    "### Feel free to use as many code cells as needed.\n",
    "\n",
    "from sklearn.utils import shuffle\n",
    "from sklearn.preprocessing import normalize\n",
    "from sklearn.preprocessing import scale\n",
    "from skimage.exposure import equalize_adapthist\n",
    "from skimage.exposure import rescale_intensity\n",
    "from skimage.exposure import adjust_log\n",
    "\n",
    "import cv2\n",
    "\n",
    "#img_y = (exposure.equalize_adapthist(img_y,) - 0.5)\n",
    "def preprocess(img):\n",
    "#     img_y = cv2.cvtColor(img, (cv2.COLOR_BGR2YUV))[:,:,0]\n",
    "#     img_y = (img_y / 255.).astype(np.float32)\n",
    "#    # img_y = (equalize_adapthist(img_y,) - 0.5)\n",
    "#     img_y = img_y.reshape(img_y.shape + (1,))\n",
    "#     return img_y\n",
    "    img_yuv = cv2.cvtColor(img, cv2.COLOR_RGB2YUV)\n",
    "    y, u, v = cv2.split(img_yuv)\n",
    "    #y = (y / 255.).astype(np.float32)\n",
    "    \n",
    "    #y = rescale_intensity(y)\n",
    "    y = normalize(y)\n",
    "    y = adjust_log(y)\n",
    "    y = normalize(y)\n",
    "   # y = (y - 128)/128\n",
    "    #print(y)\n",
    "    return y.reshape(y.shape[0],y.shape[1],1)\n",
    "\n",
    "\n",
    "X_train, y_train = shuffle(X_train, y_train)\n",
    "\n",
    "num_orig_train_images = X_train.shape[0]\n",
    "\n",
    "X_gen_train = []\n",
    "y_gen_train = []\n",
    "\n",
    "num_extra_samples = 2\n",
    "for i in range (num_orig_train_images):\n",
    "    if i % 10000 == 0:\n",
    "        print(\"Iteration \", i)\n",
    "    \n",
    "    samples_in_class_i = dist_train[y_train[i]]\n",
    "    samples_in_class_n = most_common_count\n",
    "    samples_needed = num_extra_samples + (num_extra_samples+1)*((samples_in_class_n - samples_in_class_i)/samples_in_class_i)\n",
    "    for j in range (int(samples_needed)):\n",
    "        X_gen_train.append(generateSample(X_train[i]))\n",
    "        y_gen_train.append(y_train[i])\n",
    "    \n",
    "    prob = samples_needed - int(samples_needed)\n",
    "    if prob >= np.random.random_sample():\n",
    "        X_gen_train.append(generateSample(X_train[i]))\n",
    "        y_gen_train.append(y_train[i])\n",
    "\n",
    "    \n",
    "y_gen_train = np.array(y_gen_train)\n",
    "X_gen_train = np.array(X_gen_train)\n",
    "print(\"y_gen_train shape: \", y_gen_train.shape)\n",
    "print(\"X_gen_train shape: \", X_gen_train.shape)\n",
    "print(\"X_train shape:\",X_train.shape)\n",
    "print(\"y_train shape:\",y_train.shape)\n",
    "\n",
    "print(\"Merging...\")\n",
    "X_train = np.append(X_train,X_gen_train, axis = 0)\n",
    "y_train = np.append(y_train,y_gen_train, axis = 0)\n",
    "\n",
    "\n",
    "print(\"X_train shape:\",X_train.shape)\n",
    "print(\"y_train shape:\",y_train.shape)\n",
    "\n",
    "print(\"Distribution of testing examples =\", collections.Counter(y_train))\n",
    "\n",
    "#X_train, y_train = shuffle(X_train, y_train)\n",
    "X_train = np.array([preprocess(X_train[i]) for i in range(X_train.shape[0])])\n",
    "X_valid = np.array([preprocess(X_valid[i]) for i in range(X_valid.shape[0])])\n",
    "X_test = np.array([preprocess(X_test[i]) for i in range(X_test.shape[0])])\n",
    "\n",
    "print(X_train.shape)\n",
    "\n",
    "X_train, y_train = shuffle(X_train, y_train)\n"
   ]
  },
  {
   "cell_type": "markdown",
   "metadata": {},
   "source": [
    "### Model Architecture"
   ]
  },
  {
   "cell_type": "code",
   "execution_count": 6,
   "metadata": {},
   "outputs": [
    {
     "name": "stderr",
     "output_type": "stream",
     "text": [
      "/Users/elias/miniconda3/envs/carnd-term1/lib/python3.5/site-packages/h5py/__init__.py:36: FutureWarning: Conversion of the second argument of issubdtype from `float` to `np.floating` is deprecated. In future, it will be treated as `np.float64 == np.dtype(float).type`.\n",
      "  from ._conv import register_converters as _register_converters\n"
     ]
    }
   ],
   "source": [
    "import tensorflow as tf\n",
    "from tensorflow.contrib.layers import flatten\n",
    "\n",
    "EPOCHS = 10\n",
    "BATCH_SIZE = 128\n",
    "\n",
    "### Define your architecture here.\n",
    "### Feel free to use as many code cells as needed.\n",
    "def LeNet(x):    \n",
    "    # Arguments used for tf.truncated_normal, randomly defines variables for the weights and biases for each layer\n",
    "    mu = 0\n",
    "    sigma = 0.1\n",
    "    conv1_W = tf.Variable(tf.truncated_normal((5, 5, 1, 6),  mean = mu, stddev = sigma)) # (height, width, input_depth, output_depth)\n",
    "    # filter_width = 5, filter_height = 5 , C=1 (grayscale), 6 is the desired output\n",
    "    conv1_b = tf.Variable(tf.zeros(6))\n",
    "    conv1_strides = [1, 1, 1, 1]\n",
    "    padding = 'VALID'\n",
    "    conv1 = tf.nn.conv2d(x, conv1_W, conv1_strides, padding) + conv1_b\n",
    "    \n",
    "    # TODO: Layer 1: Convolutional. Input = 32x32x1. Output = 28x28x6.\n",
    "    \n",
    "    # TODO: Activation.\n",
    "    conv1 = tf.nn.relu(conv1)\n",
    "\n",
    "    # TODO: Pooling. Input = 28x28x6. Output = 14x14x6.\n",
    "    \n",
    "    #new_height = (input_height - filter_height + 2 * P)/S + \n",
    "    # S = 2\n",
    "    # 14 = (28 - filter_height )/2 + 1\n",
    "    # 13 = (28 - filterheight)/2\n",
    "    # 26 = 28 - filterHeight, filterHeight = 2\n",
    "    \n",
    "    #ksize = [batch, 2, width, channels]\n",
    "    #ksize = [1, 2, 2, 1]\n",
    "    conv1 = tf.nn.dropout(conv1, 0.85)\n",
    "\n",
    "    conv1 = tf.nn.max_pool(conv1, ksize=[1, 2, 2, 1], strides=[1, 2, 2, 1], padding='VALID')\n",
    "    \n",
    "    # TODO: Layer 2: Convolutional. Output = 10x10x16.\n",
    "    \n",
    "    # 10 = (14 - filter_height)/S + 1\n",
    "    # 9 = 14 - filter_height => filter_height = 5 \n",
    "    conv2_W = tf.Variable(tf.truncated_normal((5, 5, 6, 16), mean = mu, stddev = sigma))\n",
    "    conv2_b = tf.Variable(tf.zeros(16))\n",
    "    conv2_strides = [1, 1, 1, 1]\n",
    "    padding = 'VALID'\n",
    "    conv2 = tf.nn.conv2d(conv1, conv2_W, conv2_strides, padding) + conv2_b\n",
    "\n",
    "    conv2 = tf.nn.dropout(conv2, 0.85)\n",
    "\n",
    "    # TODO: Activation.\n",
    "    conv2 = tf.nn.relu(conv2)\n",
    "\n",
    "\n",
    "    # TODO: Pooling. Input = 10x10x16. Output = 5x5x16.\n",
    "    conv2 = tf.nn.max_pool(conv2, ksize=[1, 2, 2, 1], strides=[1, 2, 2, 1], padding='VALID')\n",
    "    \n",
    "\n",
    "    \n",
    "    # TODO: Flatten. Input = 5x5x16. Output = 400.\n",
    "    flat0 = flatten(conv2)\n",
    "    # TODO: Layer 3: Fully Connected. Input = 400. Output = 120.\n",
    "    flat1_W = tf.Variable(tf.truncated_normal((400,120), mean = mu, stddev = sigma))\n",
    "    flat1_b = tf.Variable(tf.zeros(120))\n",
    "    flat1 = tf.matmul(flat0,flat1_W) + flat1_b\n",
    "    \n",
    "\n",
    "    # TODO: Activation.\n",
    "    flat1 = tf.nn.relu(flat1)\n",
    "   \n",
    "    flat1 = tf.nn.dropout(flat1, 0.8)\n",
    "    \n",
    "    # TODO: Layer 4: Fully Connected. Input = 120. Output = 84.\n",
    "    flat2_W = tf.Variable(tf.truncated_normal((120,84), mean = mu, stddev = sigma))\n",
    "    flat2_b = tf.Variable(tf.zeros(84))\n",
    "    flat2 = tf.matmul(flat1,flat2_W) + flat2_b\n",
    " \n",
    "    flat2 = tf.nn.dropout(flat2, 0.8)\n",
    "\n",
    "    # TODO: Activation.\n",
    "    flat2 = tf.nn.relu(flat2)\n",
    "    \n",
    "\n",
    "    # TODO: Layer 5: Fully Connected. Input = 84. Output = 43.\n",
    "    flat3_W = tf.Variable(tf.truncated_normal((84,n_classes), mean = mu, stddev = sigma))\n",
    "    flat3_b = tf.Variable(tf.zeros(43))\n",
    "    flat3 = tf.matmul(flat2,flat3_W) + flat3_b\n",
    "    \n",
    "    logits = flat3\n",
    "    return logits"
   ]
  },
  {
   "cell_type": "code",
   "execution_count": 7,
   "metadata": {},
   "outputs": [],
   "source": [
    "def MultiScale(x):\n",
    "    mu = 0\n",
    "    sigma = 0.1\n",
    "    \n",
    "    filters_layer_1 = 12\n",
    "    filters_layer_2 = 24\n",
    "    \n",
    "    # Layer 1: Convolutional. Input = 32x32x1. Output = 28x28x12.\n",
    "    with tf.name_scope(\"conv1\"):\n",
    "        conv1_w = tf.Variable(tf.truncated_normal(shape=(5, 5, 1, 12), mean = mu, stddev = sigma), name='W')\n",
    "        conv1_b = tf.Variable(tf.constant(0.1, shape=[filters_layer_1]), name='B')\n",
    "        conv1   = tf.nn.conv2d(x, conv1_w, strides=[1, 1, 1, 1], padding='VALID') + conv1_b\n",
    "        # Activation.\n",
    "        conv1 = tf.nn.relu(conv1)\n",
    "        tf.summary.histogram(\"weights\", conv1_w)\n",
    "        tf.summary.histogram(\"biases\", conv1_b)\n",
    "        tf.summary.histogram(\"activations\", conv1)\n",
    "\n",
    "        # Pooling. Input = 28x28x12. Output = 14x14x12.\n",
    "        conv1_orig = tf.nn.max_pool(conv1, ksize=[1, 2, 2, 1], strides=[1, 2, 2, 1], padding='VALID')\n",
    "        # Dropout\n",
    "       # conv1 = conv1_orig\n",
    "        conv1 = tf.nn.dropout(conv1_orig, keep_prob = 0.9)\n",
    "\n",
    "    with tf.name_scope(\"conv2\"):\n",
    "        # Layer 2: Convolutional. Output = 10x10x24.\n",
    "        conv2_w = tf.Variable(tf.truncated_normal(shape=(5, 5, 12, 24), mean = mu, stddev = 0.2), name='W')\n",
    "        conv2_b = tf.Variable(tf.constant(0.1, shape=[filters_layer_2]), name='B')\n",
    "        conv2   = tf.nn.conv2d(conv1, conv2_w, strides=[1, 1, 1, 1], padding='VALID') +  conv2_b\n",
    "        # Activation.\n",
    "        conv2 = tf.nn.relu(conv2)\n",
    "        \n",
    "        tf.summary.histogram(\"weights\", conv2_w)\n",
    "        tf.summary.histogram(\"biases\", conv2_b)\n",
    "        tf.summary.histogram(\"activations\", conv2)\n",
    "\n",
    "        # Pooling. Input = 10x10x24. Output = 5x5x24.\n",
    "        conv2 = tf.nn.max_pool(conv2, ksize=[1, 2, 2, 1], strides=[1, 2, 2, 1], padding='VALID')\n",
    "        # Dropout\n",
    "        conv2 = tf.nn.dropout(conv2, keep_prob = 0.9)\n",
    "\n",
    "    # Input = 14x14x12. Output = 7x7x12 = 588\n",
    "    #conv1_1 = tf.nn.max_pool(conv1, ksize=[1, 2, 2, 1], strides=[1, 2, 2, 1], padding='VALID')\n",
    "    #shape = conv1_1.get_shape().as_list()\n",
    "    #conv1_1 = tf.reshape(conv1_1, [-1, shape[1] * shape[2] * shape[3]])    \n",
    "    \n",
    "    \n",
    "    #conv1_1 = tf.nn.max_pool(conv1, ksize=[1, 2, 2, 1], strides=[1, 2, 2, 1], padding='VALID')\n",
    "    shape = conv1_orig.get_shape().as_list()\n",
    "    conv1_1 = tf.reshape(conv1_orig, [-1, shape[1] * shape[2] * shape[3]])    \n",
    "\n",
    "    # Flatten conv2 Input = 5x5x24. Output = 600\n",
    "    shape = conv2.get_shape().as_list()\n",
    "    conv2 = tf.reshape(conv2, [-1, shape[1] * shape[2] * shape[3]])\n",
    "    \n",
    "    fc0 = tf.concat([conv1_1, conv2], 1)\n",
    "    # Layer 3: Fully Connected. Input = 588+600 = 1188. Output = 320*2.\n",
    "\n",
    "    output_size = 320 * 2\n",
    "    with tf.name_scope(\"fc1\"):\n",
    "        fc1_w = tf.Variable(tf.truncated_normal(shape=(2952, output_size), mean = mu, stddev = 0.2), name='W')\n",
    "        fc1_b = tf.Variable(tf.constant(0.1, shape=[output_size]), name='B')\n",
    "        fc1   = tf.matmul(fc0, fc1_w) + fc1_b    \n",
    "        # Activation.\n",
    "        fc1    = tf.nn.relu(fc1)\n",
    "        \n",
    "        tf.summary.histogram(\"weights\", fc1_w)\n",
    "        tf.summary.histogram(\"biases\", fc1_b)\n",
    "        tf.summary.histogram(\"activations\", fc1)\n",
    "\n",
    "        # Dropout\n",
    "        fc1 = tf.nn.dropout(fc1, keep_prob = 0.7)\n",
    "    \n",
    "            \n",
    "    with tf.name_scope(\"logits\"):\n",
    "        logits_w = tf.Variable(tf.truncated_normal(shape=(output_size, n_classes), mean = mu, stddev = 0.2), name='W')\n",
    "        logits_b = tf.Variable(tf.constant(0.1, shape=[n_classes]), name='B')\n",
    "        logits = tf.matmul(fc1, logits_w) + logits_b\n",
    "        \n",
    "        \n",
    "        tf.summary.histogram(\"weights\", logits_w)\n",
    "        tf.summary.histogram(\"biases\", logits_b)\n",
    "\n",
    "        \n",
    "    return logits\n",
    "    "
   ]
  },
  {
   "cell_type": "markdown",
   "metadata": {},
   "source": [
    "### Train, Validate and Test the Model"
   ]
  },
  {
   "cell_type": "markdown",
   "metadata": {},
   "source": [
    "A validation set can be used to assess how well the model is performing. A low accuracy on the training and validation\n",
    "sets imply underfitting. A high accuracy on the training set but low accuracy on the validation set implies overfitting."
   ]
  },
  {
   "cell_type": "code",
   "execution_count": 8,
   "metadata": {},
   "outputs": [
    {
     "name": "stdout",
     "output_type": "stream",
     "text": [
      "WARNING:tensorflow:From <ipython-input-8-ff5c3b6882a8>:15: softmax_cross_entropy_with_logits (from tensorflow.python.ops.nn_ops) is deprecated and will be removed in a future version.\n",
      "Instructions for updating:\n",
      "\n",
      "Future major versions of TensorFlow will allow gradients to flow\n",
      "into the labels input on backprop by default.\n",
      "\n",
      "See @{tf.nn.softmax_cross_entropy_with_logits_v2}.\n",
      "\n"
     ]
    }
   ],
   "source": [
    "x = tf.placeholder(tf.float32, (None, 32, 32, 1))\n",
    "y = tf.placeholder(tf.int32, (None))\n",
    "one_hot_y = tf.one_hot(y, 43)\n",
    "\n",
    "### Train your model here.\n",
    "### Calculate and report the accuracy on the training and validation set.\n",
    "### Once a final model architecture is selected, \n",
    "### the accuracy on the test set should be calculated and reported as well.\n",
    "### Feel free to use as many code cells as needed.\n",
    "rate = 0.001\n",
    "\n",
    "#logits = LeNet(x)\n",
    "logits = MultiScale(x)\n",
    "with tf.name_scope(\"cross_entropy\"):\n",
    "    cross_entropy = tf.nn.softmax_cross_entropy_with_logits(labels=one_hot_y, logits=logits)\n",
    "    loss_operation = tf.reduce_mean(cross_entropy)\n",
    "    tf.summary.scalar('cross_entropy', loss_operation)\n",
    "\n",
    "with tf.name_scope(\"train\"):\n",
    "    optimizer = tf.train.AdamOptimizer(learning_rate = rate)\n",
    "    training_operation = optimizer.minimize(loss_operation)\n",
    "\n",
    "with tf.name_scope(\"accuracy\"):\n",
    "    prediction = tf.argmax(logits, 1)\n",
    "    top_five = tf.nn.top_k(logits, k=5)\n",
    "    correct_prediction = tf.equal(tf.argmax(logits, 1), tf.argmax(one_hot_y, 1))\n",
    "    accuracy_operation = tf.reduce_mean(tf.cast(correct_prediction, tf.float32))\n",
    "    tf.summary.scalar('accuracy', accuracy_operation)\n",
    "\n",
    "saver = tf.train.Saver()\n",
    "\n",
    "def evaluate(X_data, y_data):\n",
    "    num_examples = len(X_data)\n",
    "    total_accuracy = 0\n",
    "    sess = tf.get_default_session()\n",
    "    for offset in range(0, num_examples, BATCH_SIZE):\n",
    "        batch_x, batch_y = X_data[offset:offset+BATCH_SIZE], y_data[offset:offset+BATCH_SIZE]\n",
    "        accuracy = sess.run(accuracy_operation, feed_dict={x: batch_x, y: batch_y})\n",
    "        total_accuracy += (accuracy * len(batch_x))\n",
    "    return total_accuracy / num_examples\n",
    "\n",
    "\n",
    "def predict(X_data, y_data):\n",
    "    num_examples = len(X_data)\n",
    "    sess = tf.get_default_session()\n",
    "    predictions = []\n",
    "    for offset in range(0, num_examples, BATCH_SIZE):\n",
    "        batch_x, batch_y = X_data[offset:offset+BATCH_SIZE], y_data[offset:offset+BATCH_SIZE]\n",
    "        p = sess.run(prediction, feed_dict={x: batch_x, y: batch_y})\n",
    "        predictions.append(p)\n",
    "        print(p)\n",
    "        \n",
    "    return predictions"
   ]
  },
  {
   "cell_type": "code",
   "execution_count": 9,
   "metadata": {},
   "outputs": [
    {
     "name": "stdout",
     "output_type": "stream",
     "text": [
      "Training...\n",
      "\n",
      "EPOCH 1 ...\n",
      "Validation Accuracy = 0.874\n",
      "Training Accuracy = 0.942\n",
      "\n",
      "EPOCH 2 ...\n",
      "Validation Accuracy = 0.913\n",
      "Training Accuracy = 0.977\n",
      "\n",
      "EPOCH 3 ...\n",
      "Validation Accuracy = 0.914\n",
      "Training Accuracy = 0.985\n",
      "\n",
      "EPOCH 4 ...\n",
      "Validation Accuracy = 0.917\n",
      "Training Accuracy = 0.989\n",
      "\n",
      "EPOCH 5 ...\n",
      "Validation Accuracy = 0.922\n",
      "Training Accuracy = 0.989\n",
      "\n",
      "EPOCH 6 ...\n",
      "Validation Accuracy = 0.926\n",
      "Training Accuracy = 0.992\n",
      "\n",
      "EPOCH 7 ...\n",
      "Validation Accuracy = 0.931\n",
      "Training Accuracy = 0.992\n",
      "\n",
      "EPOCH 8 ...\n",
      "Validation Accuracy = 0.933\n",
      "Training Accuracy = 0.995\n",
      "\n",
      "EPOCH 9 ...\n",
      "Validation Accuracy = 0.936\n",
      "Training Accuracy = 0.995\n",
      "\n",
      "EPOCH 10 ...\n",
      "Validation Accuracy = 0.934\n",
      "Training Accuracy = 0.997\n",
      "\n",
      "Model saved\n"
     ]
    }
   ],
   "source": [
    "with tf.Session() as sess:\n",
    "    writer = tf.summary.FileWriter(\"./graph11\", sess.graph)\n",
    "\n",
    "    sess.run(tf.global_variables_initializer())\n",
    "    num_examples = len(X_train)\n",
    "    \n",
    "    print(\"Training...\")\n",
    "    print()\n",
    "    j = 0\n",
    "    for i in range(EPOCHS):\n",
    "        X_train, y_train = shuffle(X_train, y_train)\n",
    "        for offset in range(0, num_examples, BATCH_SIZE):\n",
    "            end = offset + BATCH_SIZE\n",
    "            batch_x, batch_y = X_train[offset:end], y_train[offset:end]\n",
    "            if j % 10 == 0:\n",
    "                merged_summary = tf.summary.merge_all()\n",
    "                s = sess.run(merged_summary, feed_dict={x: batch_x, y: batch_y})\n",
    "                writer.add_summary(s,j)\n",
    "            sess.run(training_operation, feed_dict={x: batch_x, y: batch_y})\n",
    "            j = j+1\n",
    "            \n",
    "        validation_accuracy = evaluate(X_valid, y_valid)\n",
    "        training_accuracy = evaluate(X_train, y_train)\n",
    "        #testing_accuracy = evaluate(X_test, y_test)\n",
    "\n",
    "        print(\"EPOCH {} ...\".format(i+1))\n",
    "        print(\"Validation Accuracy = {:.3f}\".format(validation_accuracy))\n",
    "        print(\"Training Accuracy = {:.3f}\".format(training_accuracy))\n",
    "       # print(\"Testing Accuracy = {:.3f}\".format(testing_accuracy))\n",
    "        print()\n",
    "    saver.save(sess, './lenet')\n",
    "    print(\"Model saved\")\n"
   ]
  },
  {
   "cell_type": "code",
   "execution_count": 10,
   "metadata": {},
   "outputs": [
    {
     "name": "stdout",
     "output_type": "stream",
     "text": [
      "INFO:tensorflow:Restoring parameters from ./lenet\n",
      "Test Accuracy = 0.956\n"
     ]
    }
   ],
   "source": [
    "with tf.Session() as sess:\n",
    "    saver.restore(sess, tf.train.latest_checkpoint('.'))\n",
    "\n",
    "    test_accuracy = evaluate(X_test, y_test)\n",
    "    print(\"Test Accuracy = {:.3f}\".format(test_accuracy))"
   ]
  },
  {
   "cell_type": "markdown",
   "metadata": {},
   "source": [
    "---\n",
    "\n",
    "## Step 3: Test a Model on New Images\n",
    "\n",
    "To give yourself more insight into how your model is working, download at least five pictures of German traffic signs from the web and use your model to predict the traffic sign type.\n",
    "\n",
    "You may find `signnames.csv` useful as it contains mappings from the class id (integer) to the actual sign name."
   ]
  },
  {
   "cell_type": "markdown",
   "metadata": {},
   "source": [
    "### Load and Output the Images"
   ]
  },
  {
   "cell_type": "code",
   "execution_count": 11,
   "metadata": {
    "scrolled": true
   },
   "outputs": [
    {
     "data": {
      "image/png": "[encoded data removed]",
      "text/plain": [
       "<Figure size 72x72 with 1 Axes>"
      ]
     },
     "metadata": {},
     "output_type": "display_data"
    },
    {
     "data": {
      "image/png": "[encoded data removed]",
      "text/plain": [
       "<Figure size 72x72 with 1 Axes>"
      ]
     },
     "metadata": {},
     "output_type": "display_data"
    },
    {
     "data": {
      "image/png": "[encoded data removed]",
      "text/plain": [
       "<Figure size 72x72 with 1 Axes>"
      ]
     },
     "metadata": {},
     "output_type": "display_data"
    },
    {
     "data": {
      "image/png": "[encoded data removed]",
      "text/plain": [
       "<Figure size 72x72 with 1 Axes>"
      ]
     },
     "metadata": {},
     "output_type": "display_data"
    },
    {
     "data": {
      "image/png": "[encoded data removed]",
      "text/plain": [
       "<Figure size 72x72 with 1 Axes>"
      ]
     },
     "metadata": {},
     "output_type": "display_data"
    },
    {
     "data": {
      "image/png": "[encoded data removed]",
      "text/plain": [
       "<Figure size 72x72 with 1 Axes>"
      ]
     },
     "metadata": {},
     "output_type": "display_data"
    },
    {
     "data": {
      "image/png": "[encoded data removed]",
      "text/plain": [
       "<Figure size 72x72 with 1 Axes>"
      ]
     },
     "metadata": {},
     "output_type": "display_data"
    }
   ],
   "source": [
    "### Load the images and plot them here.\n",
    "import glob\n",
    "import matplotlib.image as mpimg\n",
    "\n",
    "images_names = glob.glob('test_images/*.png')\n",
    "\n",
    "images = []\n",
    "\n",
    "\n",
    "for img_name in images_names:\n",
    "    # read each image\n",
    "    img = mpimg.imread(img_name)\n",
    "    images.append(img)\n",
    "    plt.figure(figsize=(1,1))\n",
    "    plt.imshow(img)\n",
    "plt.close()\n"
   ]
  },
  {
   "cell_type": "markdown",
   "metadata": {},
   "source": [
    "### Predict the Sign Type for Each Image"
   ]
  },
  {
   "cell_type": "code",
   "execution_count": 12,
   "metadata": {},
   "outputs": [
    {
     "name": "stdout",
     "output_type": "stream",
     "text": [
      "(8, 32, 32, 3)\n"
     ]
    }
   ],
   "source": [
    "### Run the predictions here and use the model to output the prediction for each image.\n",
    "### Make sure to pre-process the images with the same pre-processing pipeline used earlier.\n",
    "### Feel free to use as many code cells as needed.\n",
    "\n",
    "images = np.array(images)\n",
    "print(images.shape)\n",
    "images_preprocess = np.array([preprocess(images[i]) for i in range(images.shape[0])])\n"
   ]
  },
  {
   "cell_type": "markdown",
   "metadata": {},
   "source": [
    "### Analyze Performance"
   ]
  },
  {
   "cell_type": "code",
   "execution_count": 13,
   "metadata": {
    "scrolled": true
   },
   "outputs": [
    {
     "name": "stdout",
     "output_type": "stream",
     "text": [
      "INFO:tensorflow:Restoring parameters from ./lenet\n",
      "[ 8 17 36 18 33 25 10 41]\n"
     ]
    },
    {
     "data": {
      "image/png": "[encoded data removed]",
      "text/plain": [
       "<Figure size 72x72 with 1 Axes>"
      ]
     },
     "metadata": {},
     "output_type": "display_data"
    },
    {
     "data": {
      "image/png": "[encoded data removed]",
      "text/plain": [
       "<Figure size 72x72 with 1 Axes>"
      ]
     },
     "metadata": {},
     "output_type": "display_data"
    },
    {
     "data": {
      "image/png": "[encoded data removed]",
      "text/plain": [
       "<Figure size 72x72 with 1 Axes>"
      ]
     },
     "metadata": {},
     "output_type": "display_data"
    },
    {
     "data": {
      "image/png": "[encoded data removed]",
      "text/plain": [
       "<Figure size 72x72 with 1 Axes>"
      ]
     },
     "metadata": {},
     "output_type": "display_data"
    },
    {
     "data": {
      "image/png": "[encoded data removed]",
      "text/plain": [
       "<Figure size 72x72 with 1 Axes>"
      ]
     },
     "metadata": {},
     "output_type": "display_data"
    },
    {
     "data": {
      "image/png": "[encoded data removed]",
      "text/plain": [
       "<Figure size 72x72 with 1 Axes>"
      ]
     },
     "metadata": {},
     "output_type": "display_data"
    },
    {
     "data": {
      "image/png": "[encoded data removed]",
      "text/plain": [
       "<Figure size 72x72 with 1 Axes>"
      ]
     },
     "metadata": {},
     "output_type": "display_data"
    },
    {
     "data": {
      "image/png": "[encoded data removed]",
      "text/plain": [
       "<Figure size 72x72 with 1 Axes>"
      ]
     },
     "metadata": {},
     "output_type": "display_data"
    }
   ],
   "source": [
    "import csv\n",
    "\n",
    "### Calculate the accuracy for these 5 new images. \n",
    "### For example, if the model predicted 1 out of 5 signs correctly, it's 20% accurate on these new images.\n",
    "y_images = []\n",
    "#saver = tf.train.Saver()\n",
    "\n",
    "sign_names = open('signnames.csv', 'r')\n",
    "reader = csv.reader(sign_names, delimiter=',')\n",
    "\n",
    "\n",
    "i = -1\n",
    "names = []\n",
    "for row in reader:\n",
    "    if i >= 0:\n",
    "        names.append(row[1])\n",
    "    i = i+1\n",
    "with tf.Session() as sess:\n",
    "    saver.restore(sess, tf.train.latest_checkpoint('.'))\n",
    "    predictions = predict(images_preprocess, y_images)\n",
    "    k = 0\n",
    "    for j in predictions[0]:\n",
    "        #print(j)\n",
    "        plt.figure(figsize=(1,1))\n",
    "        plt.imshow(images[k])\n",
    "        plt.title(names[j])\n",
    "        k=k+1\n",
    "    #print(predictions)\n",
    "    #print(\"Test Accuracy = {:.3f}\".format(test_accuracy))\n",
    "    \n",
    "    "
   ]
  },
  {
   "cell_type": "markdown",
   "metadata": {},
   "source": [
    "### Output Top 5 Softmax Probabilities For Each Image Found on the Web"
   ]
  },
  {
   "cell_type": "markdown",
   "metadata": {},
   "source": [
    "For each of the new images, print out the model's softmax probabilities to show the **certainty** of the model's predictions (limit the output to the top 5 probabilities for each image). [`tf.nn.top_k`](https://www.tensorflow.org/versions/r0.12/api_docs/python/nn.html#top_k) could prove helpful here. \n",
    "\n",
    "The example below demonstrates how tf.nn.top_k can be used to find the top k predictions for each image.\n",
    "\n",
    "`tf.nn.top_k` will return the values and indices (class ids) of the top k predictions. So if k=3, for each sign, it'll return the 3 largest probabilities (out of a possible 43) and the correspoding class ids.\n",
    "\n",
    "Take this numpy array as an example. The values in the array represent predictions. The array contains softmax probabilities for five candidate images with six possible classes. `tf.nn.top_k` is used to choose the three classes with the highest probability:\n",
    "\n",
    "```\n",
    "# (5, 6) array\n",
    "a = np.array([[ 0.24879643,  0.07032244,  0.12641572,  0.34763842,  0.07893497,\n",
    "         0.12789202],\n",
    "       [ 0.28086119,  0.27569815,  0.08594638,  0.0178669 ,  0.18063401,\n",
    "         0.15899337],\n",
    "       [ 0.26076848,  0.23664738,  0.08020603,  0.07001922,  0.1134371 ,\n",
    "         0.23892179],\n",
    "       [ 0.11943333,  0.29198961,  0.02605103,  0.26234032,  0.1351348 ,\n",
    "         0.16505091],\n",
    "       [ 0.09561176,  0.34396535,  0.0643941 ,  0.16240774,  0.24206137,\n",
    "         0.09155967]])\n",
    "```\n",
    "\n",
    "Running it through `sess.run(tf.nn.top_k(tf.constant(a), k=3))` produces:\n",
    "\n",
    "```\n",
    "TopKV2(values=array([[ 0.34763842,  0.24879643,  0.12789202],\n",
    "       [ 0.28086119,  0.27569815,  0.18063401],\n",
    "       [ 0.26076848,  0.23892179,  0.23664738],\n",
    "       [ 0.29198961,  0.26234032,  0.16505091],\n",
    "       [ 0.34396535,  0.24206137,  0.16240774]]), indices=array([[3, 0, 5],\n",
    "       [0, 1, 4],\n",
    "       [0, 5, 1],\n",
    "       [1, 3, 5],\n",
    "       [1, 4, 3]], dtype=int32))\n",
    "```\n",
    "\n",
    "Looking just at the first row we get `[ 0.34763842,  0.24879643,  0.12789202]`, you can confirm these are the 3 largest probabilities in `a`. You'll also notice `[3, 0, 5]` are the corresponding indices."
   ]
  },
  {
   "cell_type": "code",
   "execution_count": 54,
   "metadata": {},
   "outputs": [
    {
     "name": "stdout",
     "output_type": "stream",
     "text": [
      "INFO:tensorflow:Restoring parameters from ./lenet\n",
      "[ 8 14  5  1 10]\n",
      "8 : 0.9062629 Speed limit (120km/h)\n",
      "14 : 0.09270587 Stop\n",
      "5 : 0.0010312509 Speed limit (80km/h)\n",
      "1 : 2.308342e-08 Speed limit (30km/h)\n",
      "10 : 3.6479603e-10 No passing for vehicles over 3.5 metric tons\n",
      "[17 14  4  2 39]\n",
      "17 : 1.0 No entry\n",
      "14 : 3.138111e-12 Stop\n",
      "4 : 2.8148827e-17 Speed limit (70km/h)\n",
      "2 : 1.0882099e-20 Speed limit (50km/h)\n",
      "39 : 3.8073007e-21 Keep left\n",
      "[36 34 35 13 14]\n",
      "36 : 1.0 Go straight or right\n",
      "34 : 6.0338618e-12 Turn left ahead\n",
      "35 : 1.2098057e-12 Ahead only\n",
      "13 : 2.0012496e-13 Yield\n",
      "14 : 1.504922e-13 Stop\n",
      "[18 26 30 25 37]\n",
      "18 : 0.9998421 General caution\n",
      "26 : 0.00015788696 Traffic signals\n",
      "30 : 2.0872193e-13 Beware of ice/snow\n",
      "25 : 5.8850363e-15 Road work\n",
      "37 : 4.7195316e-15 Go straight or left\n",
      "[33 14 40  1 38]\n",
      "33 : 0.9999999 Turn right ahead\n",
      "14 : 6.465239e-08 Stop\n",
      "40 : 1.1796081e-08 Roundabout mandatory\n",
      "1 : 8.794377e-09 Speed limit (30km/h)\n",
      "38 : 7.976371e-09 Keep right\n",
      "[25 22 23 19 20]\n",
      "25 : 0.9999997 Road work\n",
      "22 : 2.6661783e-07 Bumpy road\n",
      "23 : 6.684351e-12 Slippery road\n",
      "19 : 5.431725e-13 Dangerous curve to the left\n",
      "20 : 8.274279e-14 Dangerous curve to the right\n",
      "[10  9 16  5 42]\n",
      "10 : 0.9740399 No passing for vehicles over 3.5 metric tons\n",
      "9 : 0.016285053 No passing\n",
      "16 : 0.005387763 Vehicles over 3.5 metric tons prohibited\n",
      "5 : 0.003632858 Speed limit (80km/h)\n",
      "42 : 0.0006257569 End of no passing by vehicles over 3.5 metric tons\n",
      "[41  9 20 23 10]\n",
      "41 : 1.0 End of no passing\n",
      "9 : 3.5522444e-12 No passing\n",
      "20 : 1.4380163e-14 Dangerous curve to the right\n",
      "23 : 1.3416598e-20 Slippery road\n",
      "10 : 4.582968e-21 No passing for vehicles over 3.5 metric tons\n"
     ]
    }
   ],
   "source": [
    "### Print out the top five softmax probabilities for the predictions on the German traffic sign images found on the web. \n",
    "### Feel free to use as many code cells as needed.\n",
    "# def top_five(X_data, y_data):\n",
    "#     num_examples = len(X_data)\n",
    "#     sess = tf.get_default_session()\n",
    "#     predictions = []\n",
    "#     for offset in range(0, num_examples, BATCH_SIZE):\n",
    "#         batch_x, batch_y = X_data[offset:offset+BATCH_SIZE], y_data[offset:offset+BATCH_SIZE]\n",
    "#         return sess.run(logits, feed_dict={x: batch_x, y: batch_y})\n",
    "        \n",
    "       # print(cross_entropy)\n",
    "        #print(tf.nn.top_k(p, k=3))\n",
    "       # print(sess.run(tf.nn.top_k(tf.constant(p), k=5)))\n",
    "\n",
    "def softmax(x):\n",
    "    \"\"\"Compute softmax values for each sets of scores in x.\"\"\"\n",
    "    return np.exp(x) / np.sum(np.exp(x), axis=0)\n",
    "\n",
    "with tf.Session() as sess:\n",
    "    saver.restore(sess, tf.train.latest_checkpoint('.'))\n",
    "    #sess.run(logits, feed_dict={x: images_preprocess, y: y_images})\n",
    "    top5 = sess.run([logits, tf.nn.top_k(logits, 5)], feed_dict={x: images_preprocess, y: y_images})\n",
    "    \n",
    "   # print(top5[0][0])\n",
    "    for i in range(0,8):\n",
    "        print(top5[1][1][i])\n",
    "        for j in top5[1][1][i]:\n",
    "            print(j,\":\", softmax(top5[0][i])[j], names[j])\n"
   ]
  },
  {
   "cell_type": "markdown",
   "metadata": {},
   "source": [
    "### Project Writeup\n",
    "\n",
    "Once you have completed the code implementation, document your results in a project writeup using this [template](https://github.com/udacity/CarND-Traffic-Sign-Classifier-Project/blob/master/writeup_template.md) as a guide. The writeup can be in a markdown or pdf file. "
   ]
  },
  {
   "cell_type": "markdown",
   "metadata": {},
   "source": [
    "> **Note**: Once you have completed all of the code implementations and successfully answered each question above, you may finalize your work by exporting the iPython Notebook as an HTML document. You can do this by using the menu above and navigating to  \\n\",\n",
    "    \"**File -> Download as -> HTML (.html)**. Include the finished document along with this notebook as your submission."
   ]
  },
  {
   "cell_type": "markdown",
   "metadata": {},
   "source": [
    "---\n",
    "\n",
    "## Step 4 (Optional): Visualize the Neural Network's State with Test Images\n",
    "\n",
    " This Section is not required to complete but acts as an additional excersise for understaning the output of a neural network's weights. While neural networks can be a great learning device they are often referred to as a black box. We can understand what the weights of a neural network look like better by plotting their feature maps. After successfully training your neural network you can see what it's feature maps look like by plotting the output of the network's weight layers in response to a test stimuli image. From these plotted feature maps, it's possible to see what characteristics of an image the network finds interesting. For a sign, maybe the inner network feature maps react with high activation to the sign's boundary outline or to the contrast in the sign's painted symbol.\n",
    "\n",
    " Provided for you below is the function code that allows you to get the visualization output of any tensorflow weight layer you want. The inputs to the function should be a stimuli image, one used during training or a new one you provided, and then the tensorflow variable name that represents the layer's state during the training process, for instance if you wanted to see what the [LeNet lab's](https://classroom.udacity.com/nanodegrees/nd013/parts/fbf77062-5703-404e-b60c-95b78b2f3f9e/modules/6df7ae49-c61c-4bb2-a23e-6527e69209ec/lessons/601ae704-1035-4287-8b11-e2c2716217ad/concepts/d4aca031-508f-4e0b-b493-e7b706120f81) feature maps looked like for it's second convolutional layer you could enter conv2 as the tf_activation variable.\n",
    "\n",
    "For an example of what feature map outputs look like, check out NVIDIA's results in their paper [End-to-End Deep Learning for Self-Driving Cars](https://devblogs.nvidia.com/parallelforall/deep-learning-self-driving-cars/) in the section Visualization of internal CNN State. NVIDIA was able to show that their network's inner weights had high activations to road boundary lines by comparing feature maps from an image with a clear path to one without. Try experimenting with a similar test to show that your trained network's weights are looking for interesting features, whether it's looking at differences in feature maps from images with or without a sign, or even what feature maps look like in a trained network vs a completely untrained one on the same sign image.\n",
    "\n",
    "<figure>\n",
    " <img src=\"visualize_cnn.png\" width=\"380\" alt=\"Combined Image\" />\n",
    " <figcaption>\n",
    " <p></p> \n",
    " <p style=\"text-align: center;\"> Your output should look something like this (above)</p> \n",
    " </figcaption>\n",
    "</figure>\n",
    " <p></p> \n"
   ]
  },
  {
   "cell_type": "code",
   "execution_count": null,
   "metadata": {
    "collapsed": true
   },
   "outputs": [],
   "source": [
    "### Visualize your network's feature maps here.\n",
    "### Feel free to use as many code cells as needed.\n",
    "\n",
    "# image_input: the test image being fed into the network to produce the feature maps\n",
    "# tf_activation: should be a tf variable name used during your training procedure that represents the calculated state of a specific weight layer\n",
    "# activation_min/max: can be used to view the activation contrast in more detail, by default matplot sets min and max to the actual min and max values of the output\n",
    "# plt_num: used to plot out multiple different weight feature map sets on the same block, just extend the plt number for each new feature map entry\n",
    "\n",
    "def outputFeatureMap(image_input, tf_activation, activation_min=-1, activation_max=-1 ,plt_num=1):\n",
    "    # Here make sure to preprocess your image_input in a way your network expects\n",
    "    # with size, normalization, ect if needed\n",
    "    # image_input =\n",
    "    # Note: x should be the same name as your network's tensorflow data placeholder variable\n",
    "    # If you get an error tf_activation is not defined it may be having trouble accessing the variable from inside a function\n",
    "    activation = tf_activation.eval(session=sess,feed_dict={x : image_input})\n",
    "    featuremaps = activation.shape[3]\n",
    "    plt.figure(plt_num, figsize=(15,15))\n",
    "    for featuremap in range(featuremaps):\n",
    "        plt.subplot(6,8, featuremap+1) # sets the number of feature maps to show on each row and column\n",
    "        plt.title('FeatureMap ' + str(featuremap)) # displays the feature map number\n",
    "        if activation_min != -1 & activation_max != -1:\n",
    "            plt.imshow(activation[0,:,:, featuremap], interpolation=\"nearest\", vmin =activation_min, vmax=activation_max, cmap=\"gray\")\n",
    "        elif activation_max != -1:\n",
    "            plt.imshow(activation[0,:,:, featuremap], interpolation=\"nearest\", vmax=activation_max, cmap=\"gray\")\n",
    "        elif activation_min !=-1:\n",
    "            plt.imshow(activation[0,:,:, featuremap], interpolation=\"nearest\", vmin=activation_min, cmap=\"gray\")\n",
    "        else:\n",
    "            plt.imshow(activation[0,:,:, featuremap], interpolation=\"nearest\", cmap=\"gray\")"
   ]
  }
 ],
 "metadata": {
  "anaconda-cloud": {},
  "kernelspec": {
   "display_name": "Python 3",
   "language": "python",
   "name": "python3"
  },
  "language_info": {
   "codemirror_mode": {
    "name": "ipython",
    "version": 3
   },
   "file_extension": ".py",
   "mimetype": "text/x-python",
   "name": "python",
   "nbconvert_exporter": "python",
   "pygments_lexer": "ipython3",
   "version": "3.5.2"
  },
  "widgets": {
   "state": {},
   "version": "1.1.2"
  }
 },
 "nbformat": 4,
 "nbformat_minor": 1
}
